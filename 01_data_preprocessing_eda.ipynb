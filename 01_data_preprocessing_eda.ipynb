{
 "cells": [
  {
   "cell_type": "markdown",
   "id": "d413d239",
   "metadata": {},
   "source": [
    "# Sales Data Preprocessing & EDA\n",
    "\n",
    "This notebook demonstrates data import, cleaning, missing value handling, feature selection, transformations, and initial visualizations for a synthetic **Sales** dataset with two related tables: **orders** and **products**."
   ]
  },
  {
   "cell_type": "code",
   "execution_count": null,
   "id": "59a1c08e",
   "metadata": {},
   "outputs": [],
   "source": [
    "\n",
    "import os\n",
    "import pandas as pd\n",
    "import numpy as np\n",
    "from datetime import datetime\n",
    "import matplotlib.pyplot as plt\n",
    "\n",
    "# Settings\n",
    "pd.set_option('display.max_columns', None)\n",
    "base_dir = \"/mnt/data/sales_data_preprocessing_project\"\n",
    "data_dir = os.path.join(base_dir, \"data\")\n",
    "fig_dir = os.path.join(base_dir, \"figures\")\n",
    "os.makedirs(fig_dir, exist_ok=True)\n",
    "\n",
    "orders_path = os.path.join(data_dir, \"orders.csv\")\n",
    "products_path = os.path.join(data_dir, \"products.csv\")\n",
    "\n",
    "orders = pd.read_csv(orders_path)\n",
    "products = pd.read_csv(products_path)\n",
    "orders.head()\n"
   ]
  },
  {
   "cell_type": "code",
   "execution_count": null,
   "id": "c35c20d4",
   "metadata": {},
   "outputs": [],
   "source": [
    "\n",
    "print(\"Orders shape:\", orders.shape)\n",
    "print(\"Products shape:\", products.shape)\n",
    "print(\"\\nOrders info:\")\n",
    "print(orders.info())\n",
    "print(\"\\nProducts info:\")\n",
    "print(products.info())\n"
   ]
  },
  {
   "cell_type": "markdown",
   "id": "e204ca6e",
   "metadata": {},
   "source": [
    "## Data Type Fixes"
   ]
  },
  {
   "cell_type": "code",
   "execution_count": null,
   "id": "1ec19956",
   "metadata": {},
   "outputs": [],
   "source": [
    "\n",
    "# Convert date columns\n",
    "for col in [\"OrderDate\", \"ShipDate\"]:\n",
    "    orders[col] = pd.to_datetime(orders[col], errors='coerce')\n",
    "\n",
    "# Ensure numeric types\n",
    "num_cols = [\"Quantity\", \"UnitPrice\", \"Discount\", \"Sales\", \"Cost\", \"Profit\"]\n",
    "orders[num_cols] = orders[num_cols].apply(pd.to_numeric, errors='coerce')\n",
    "\n",
    "# Category types\n",
    "for col in [\"Region\", \"Priority\"]:\n",
    "    orders[col] = orders[col].astype(\"category\")\n",
    "\n",
    "products[\"Category\"] = products[\"Category\"].astype(\"category\")\n",
    "products[\"SubCategory\"] = products[\"SubCategory\"].astype(\"category\")\n",
    "\n",
    "orders.dtypes\n"
   ]
  },
  {
   "cell_type": "markdown",
   "id": "9c6a5756",
   "metadata": {},
   "source": [
    "## Remove Duplicates"
   ]
  },
  {
   "cell_type": "code",
   "execution_count": null,
   "id": "8e9155e5",
   "metadata": {},
   "outputs": [],
   "source": [
    "\n",
    "before = orders.shape[0]\n",
    "orders = orders.drop_duplicates()\n",
    "after = orders.shape[0]\n",
    "print(f\"Removed {before - after} duplicate rows.\")\n"
   ]
  },
  {
   "cell_type": "markdown",
   "id": "d353a37d",
   "metadata": {},
   "source": [
    "## Missing Values Handling"
   ]
  },
  {
   "cell_type": "code",
   "execution_count": null,
   "id": "e1aadaea",
   "metadata": {},
   "outputs": [],
   "source": [
    "\n",
    "# Summarize missing\n",
    "missing_summary = orders.isna().mean().sort_values(ascending=False)\n",
    "print(missing_summary)\n",
    "\n",
    "# Strategy:\n",
    "# - ShipDate: impute using OrderDate + median ship delta\n",
    "# - Discount: fill with 0 (assume no discount)\n",
    "# - Region: fill with mode\n",
    "\n",
    "# Impute ShipDate\n",
    "valid_ship = (orders[\"ShipDate\"] - orders[\"OrderDate\"]).dt.days.dropna()\n",
    "median_ship_days = int(valid_ship.median())\n",
    "orders[\"ShipDate\"] = orders[\"ShipDate\"].fillna(orders[\"OrderDate\"] + pd.to_timedelta(median_ship_days, unit='D'))\n",
    "\n",
    "# Discount\n",
    "orders[\"Discount\"] = orders[\"Discount\"].fillna(0.0)\n",
    "\n",
    "# Region\n",
    "mode_region = orders[\"Region\"].mode().iloc[0]\n",
    "orders[\"Region\"] = orders[\"Region\"].fillna(mode_region)\n",
    "\n",
    "orders.isna().sum()\n"
   ]
  },
  {
   "cell_type": "markdown",
   "id": "60584b47",
   "metadata": {},
   "source": [
    "## Feature Engineering & Selection"
   ]
  },
  {
   "cell_type": "code",
   "execution_count": null,
   "id": "1eb99f75",
   "metadata": {},
   "outputs": [],
   "source": [
    "\n",
    "# Derived features\n",
    "orders[\"OrderYear\"] = orders[\"OrderDate\"].dt.year\n",
    "orders[\"OrderMonth\"] = orders[\"OrderDate\"].dt.to_period(\"M\").astype(str)\n",
    "orders[\"AOV\"] = orders[\"Sales\"]  # per-order value\n",
    "orders[\"MarginPct\"] = np.where(orders[\"Sales\"]>0, (orders[\"Profit\"]/orders[\"Sales\"])*100, np.nan)\n",
    "\n",
    "# Select key columns for modeling/BI\n",
    "selected_cols = [\"OrderID\",\"OrderDate\",\"ShipDate\",\"CustomerID\",\"Region\",\"ProductID\",\"Quantity\",\n",
    "                 \"UnitPrice\",\"Discount\",\"Sales\",\"Cost\",\"Profit\",\"Priority\",\"OrderYear\",\"OrderMonth\",\"AOV\",\"MarginPct\"]\n",
    "orders_selected = orders[selected_cols].copy()\n",
    "\n",
    "orders_selected.head()\n"
   ]
  },
  {
   "cell_type": "markdown",
   "id": "bf76398e",
   "metadata": {},
   "source": [
    "## Data Integrity Checks"
   ]
  },
  {
   "cell_type": "code",
   "execution_count": null,
   "id": "10859671",
   "metadata": {},
   "outputs": [],
   "source": [
    "\n",
    "# 1) Sales should equal Quantity * UnitPrice * (1 - Discount) within rounding tolerance\n",
    "recalc_sales = (orders_selected[\"Quantity\"] * orders_selected[\"UnitPrice\"] * (1 - orders_selected[\"Discount\"])).round(2)\n",
    "check_sales = np.isclose(recalc_sales, orders_selected[\"Sales\"], atol=0.01)\n",
    "print(\"Sales integrity pass rate:\", check_sales.mean())\n",
    "\n",
    "# 2) Profit = Sales - Cost\n",
    "recalc_profit = (orders_selected[\"Sales\"] - orders_selected[\"Cost\"]).round(2)\n",
    "check_profit = np.isclose(recalc_profit, orders_selected[\"Profit\"], atol=0.01)\n",
    "print(\"Profit integrity pass rate:\", check_profit.mean())\n"
   ]
  },
  {
   "cell_type": "markdown",
   "id": "a2a29756",
   "metadata": {},
   "source": [
    "## Join with Products (Data Modeling Preview)"
   ]
  },
  {
   "cell_type": "code",
   "execution_count": null,
   "id": "8e4caa48",
   "metadata": {},
   "outputs": [],
   "source": [
    "\n",
    "orders_enriched = orders_selected.merge(products[[\"ProductID\",\"ProductName\",\"Category\",\"SubCategory\"]],\n",
    "                                        on=\"ProductID\", how=\"left\")\n",
    "orders_enriched.head()\n"
   ]
  },
  {
   "cell_type": "markdown",
   "id": "6dad119a",
   "metadata": {},
   "source": [
    "## Summary Statistics"
   ]
  },
  {
   "cell_type": "code",
   "execution_count": null,
   "id": "a76be6ec",
   "metadata": {},
   "outputs": [],
   "source": [
    "\n",
    "summary_numeric = orders_enriched[[\"Quantity\",\"UnitPrice\",\"Discount\",\"Sales\",\"Cost\",\"Profit\",\"AOV\",\"MarginPct\"]].describe().T\n",
    "summary_categorical = orders_enriched[[\"Region\",\"Priority\",\"Category\",\"SubCategory\"]].astype(str).describe().T\n",
    "print(summary_numeric)\n",
    "print(\"\\n\")\n",
    "print(summary_categorical)\n"
   ]
  },
  {
   "cell_type": "markdown",
   "id": "e1e153b6",
   "metadata": {},
   "source": [
    "## Visualizations"
   ]
  },
  {
   "cell_type": "code",
   "execution_count": null,
   "id": "88b97504",
   "metadata": {},
   "outputs": [],
   "source": [
    "\n",
    "# 1) Sales by Region (Bar)\n",
    "region_sales = orders_enriched.groupby(\"Region\")[\"Sales\"].sum().sort_values(ascending=False)\n",
    "plt.figure()\n",
    "region_sales.plot(kind=\"bar\", title=\"Total Sales by Region\")\n",
    "plt.ylabel(\"Sales\")\n",
    "plt.tight_layout()\n",
    "plt.savefig(os.path.join(fig_dir, \"sales_by_region.png\"), dpi=120)\n",
    "plt.show()\n"
   ]
  },
  {
   "cell_type": "code",
   "execution_count": null,
   "id": "500fed65",
   "metadata": {},
   "outputs": [],
   "source": [
    "\n",
    "# 2) Sales Trend by Month (Line)\n",
    "monthly_sales = orders_enriched.groupby(\"OrderMonth\")[\"Sales\"].sum().sort_index()\n",
    "plt.figure()\n",
    "monthly_sales.plot(kind=\"line\", title=\"Sales Trend by Month\")\n",
    "plt.ylabel(\"Sales\")\n",
    "plt.xticks(rotation=45)\n",
    "plt.tight_layout()\n",
    "plt.savefig(os.path.join(fig_dir, \"sales_trend_by_month.png\"), dpi=120)\n",
    "plt.show()\n"
   ]
  },
  {
   "cell_type": "code",
   "execution_count": null,
   "id": "ef3473a3",
   "metadata": {},
   "outputs": [],
   "source": [
    "\n",
    "# 3) Category Distribution (Pie)\n",
    "cat_sales = orders_enriched.groupby(\"Category\")[\"Sales\"].sum()\n",
    "plt.figure()\n",
    "cat_sales.plot(kind=\"pie\", autopct=\"%1.1f%%\", title=\"Sales Share by Category\")\n",
    "plt.ylabel(\"\")\n",
    "plt.tight_layout()\n",
    "plt.savefig(os.path.join(fig_dir, \"sales_share_by_category.png\"), dpi=120)\n",
    "plt.show()\n"
   ]
  },
  {
   "cell_type": "code",
   "execution_count": null,
   "id": "5b83b8cd",
   "metadata": {},
   "outputs": [],
   "source": [
    "\n",
    "# 4) Profit by SubCategory (Top 10) - Bar\n",
    "sub_profit = orders_enriched.groupby(\"SubCategory\")[\"Profit\"].sum().sort_values(ascending=False).head(10)\n",
    "plt.figure()\n",
    "sub_profit.plot(kind=\"bar\", title=\"Top 10 SubCategories by Profit\")\n",
    "plt.ylabel(\"Profit\")\n",
    "plt.tight_layout()\n",
    "plt.savefig(os.path.join(fig_dir, \"top10_subcategories_profit.png\"), dpi=120)\n",
    "plt.show()\n"
   ]
  },
  {
   "cell_type": "code",
   "execution_count": null,
   "id": "a0f9cb9a",
   "metadata": {},
   "outputs": [],
   "source": [
    "\n",
    "# 5) Scatter: Sales vs Profit\n",
    "plt.figure()\n",
    "plt.scatter(orders_enriched[\"Sales\"], orders_enriched[\"Profit\"])\n",
    "plt.title(\"Sales vs Profit\")\n",
    "plt.xlabel(\"Sales\")\n",
    "plt.ylabel(\"Profit\")\n",
    "plt.tight_layout()\n",
    "plt.savefig(os.path.join(fig_dir, \"sales_vs_profit_scatter.png\"), dpi=120)\n",
    "plt.show()\n"
   ]
  },
  {
   "cell_type": "markdown",
   "id": "f9b2607f",
   "metadata": {},
   "source": [
    "## Save Cleaned & Enriched Data"
   ]
  },
  {
   "cell_type": "code",
   "execution_count": null,
   "id": "4b5368ff",
   "metadata": {},
   "outputs": [],
   "source": [
    "\n",
    "clean_path = os.path.join(data_dir, \"orders_enriched_clean.csv\")\n",
    "orders_enriched.to_csv(clean_path, index=False)\n",
    "clean_path\n"
   ]
  }
 ],
 "metadata": {},
 "nbformat": 4,
 "nbformat_minor": 5
}
